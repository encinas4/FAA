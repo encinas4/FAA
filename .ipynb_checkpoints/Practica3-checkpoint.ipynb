{
 "cells": [
  {
   "cell_type": "markdown",
   "metadata": {},
   "source": [
    "#  Notebook de la Práctica 3 de FAA"
   ]
  },
  {
   "cell_type": "markdown",
   "metadata": {},
   "source": [
    "# Apartado 1"
   ]
  },
  {
   "cell_type": "markdown",
   "metadata": {},
   "source": [
    "A continuación, vamos a hacer una descripción de los detalles de la implementación de la práctica."
   ]
  },
  {
   "cell_type": "markdown",
   "metadata": {},
   "source": [
    "### a) Generación de la población inicial con especial indicación del número de reglas por individuo consideradas"
   ]
  },
  {
   "cell_type": "markdown",
   "metadata": {},
   "source": [
    "Para la creación de la población inicial lo primero que realizamos es calcular la k, que nos será útil en el futuro con la fórmula \"k = int(1+3.322*log10(N))\" siendo N el número de individuos.\n",
    "El segundo paso es crear tantos individuos como el número de individuos introducido al crear el clasificador, cada individuo será una lista de reglas, por lo que al crear el individuo creamos de 1 a 5 reglas de forma aleatoria y las introducimos en el individuo.\n",
    "Para la creación de estas reglas creamos de forma aleatoria tantos \"bits\" como atributos tenga, si es en representación binaria, estos números aleatorios serán '0' o '1' y en el caso de enteros serán de '0' a '9', al final de cada regla introducimos la clase que también se introduce de forma aleatoria '1' o '0'.\n",
    "Una vez tenemos todos los individuos con sus reglas creadas, calculamos el fitness de cada individuo y lo introducimos en la población.\n",
    "Por último, tras la creación de la población inicial continuamos con el algoritmo genético, es decir, cruzar, mutar y la selección de los mejores de la generación para seguir tantas generaciones o épocas como se le haya introducido.\n",
    "\n",
    "Cabe resaltar como pide en el apartado que hemos considerado de 1 a 5 reglas por individuo, elgiendose de forma aleatoria el número entre 1 y 5. Esto se ha realizado para que no haya individuos iguales."
   ]
  },
  {
   "cell_type": "markdown",
   "metadata": {},
   "source": [
    "#### Código de procesamiento, método en el que se ejecuta el algoritmo. Se muestra hasta la creación de la población inicial"
   ]
  },
  {
   "cell_type": "code",
   "execution_count": 4,
   "metadata": {},
   "outputs": [],
   "source": [
    "def procesamiento(self, dataset, clasificador, binary):\n",
    "    poblacion=[]\n",
    "    auxP = []\n",
    "    tam = len(dataset.nombreAtributos)\n",
    "\n",
    "    #calculamos el numero de intervalor (caso entero)\n",
    "    n = self.poblacion\t# El numero de individuos es el que le has introducido\n",
    "    k = int(1+3.322*np.log10(n))\n",
    "    \n",
    "    for i in range(n):\n",
    "      individuo=[]\n",
    "      r = random.randint(1, 5)\t# Numero de reglas del individuo que se crea, minimo 1, maximo 5\n",
    "      for j in range(r):\t# Creamos j reglas y las vamos introduciendo una a una en individuo\n",
    "        individuo.append(self.crearRegla(tam-1,k, binary))\n",
    "      auxP.append(individuo)\n",
    "      # En este punto ya tenemos la poblacion inicial creada\n",
    "    poblacion = self.fitnessPob1(auxP,dataset,clasificador, binary, k)\n"
   ]
  },
  {
   "cell_type": "markdown",
   "metadata": {},
   "source": [
    "#### Código del método crearRegla, que crea las reglas de cada individuo"
   ]
  },
  {
   "cell_type": "code",
   "execution_count": null,
   "metadata": {},
   "outputs": [],
   "source": [
    "# Metodo que crea reglas de tamano tam, si la representacion es binaria b valdra true\n",
    "  # y k no sera relevante. Si la representacion es entera b valdra false y se usara k\n",
    "  # para la generacion de la regla \n",
    "  def crearRegla(self,tam, k, b):\n",
    "    # Para representacion entera\n",
    "    # generamos aleatorios entre 1 y K para los n \"bits\" (tam) de la regla\n",
    "    if(not b):\t # si la representacion es entera\n",
    "        auxL=[]\n",
    "        for i in range(tam):\n",
    "            auxL = np.append(auxL, random.randint(0,k))\t\t#Se introduce un intervalo de 1 a k intervalos\n",
    "        if random.random()<0.5: # de forma aleatoria generamos 0 o 1 para la clase\n",
    "            auxL= np.append(auxL,1)\n",
    "        else:\n",
    "            auxL= np.append(auxL,0)   \t\t\n",
    "\n",
    "    #generamos aleatorios 0 y 1 para los n \"bits\" (tam) de la regla\n",
    "    else:\t\t# Si la representacion es binaria\n",
    "        auxL=[]\n",
    "        for i in range(tam):\n",
    "            r=[]\n",
    "            for j in range(k):\n",
    "                if random.random()<0.5:\t\t# de forma aleatoria generamos 0 o 1 y lo introducimos a la regla\n",
    "                    r= np.append(r,1)\n",
    "                else:\n",
    "                    r= np.append(r,0)\n",
    "            auxL.append(r)\n",
    "        if random.random()<0.5:     # Introducimos la clase\n",
    "            auxL.append(1)\n",
    "        else:\n",
    "            auxL.append(0)\n",
    "\n",
    "    return auxL"
   ]
  },
  {
   "cell_type": "markdown",
   "metadata": {},
   "source": [
    "### b) Mecanismo de cruce implementado"
   ]
  },
  {
   "cell_type": "markdown",
   "metadata": {},
   "source": [
    "El cruce lo hemos realizado en un punto sobre dos individuos para la creación de dos hijos.\n",
    "Para la realización de este cruce introducimos en una nueva lista que va a ser la de la nueva población los progenitores, después, generamos dos números aleatorios dentro del rango 0 y número de reglas de los individuos que se están cruzando. Esos dos números aleatorios van a ser los puntos donde se crucen los dos individuos.\n",
    "Una vez hecho el cruce los hijos se introducen en la lista con los individuos de la nueva población. Posteriormente se calcularán los nuevos fitnes de estos individuos.\n",
    "Cabe destacar que siempre se cruza y no hemos utilizado una probabilidad de cruce."
   ]
  },
  {
   "cell_type": "markdown",
   "metadata": {},
   "source": [
    "#### Método que realiza el cruce de dos individuos"
   ]
  },
  {
   "cell_type": "code",
   "execution_count": null,
   "metadata": {},
   "outputs": [],
   "source": [
    "  def cruceUniformePob(self, pob):\n",
    "    p = []\n",
    "    for l in range(int(len(pob)/2)):\n",
    "      p.append(pob[l*2][1])\n",
    "      p.append(pob[l*2+1][1])\n",
    "      ptoCruce1 = random.randint(0, len(pob[l*2][1])-1) #elijes el punto de cruce del primer individuo\n",
    "      ptoCruce2 = random.randint(0, len(pob[(l*2)+1][1])-1) # elije el punto de cruce del segundo individuo\n",
    "\n",
    "      hijo1 = []\n",
    "      hijo2 = []\n",
    "      # cruce en cualquier punto de los dos individuos\n",
    "      hijo1[:ptoCruce1] = pob[l*2][1][:ptoCruce1]\n",
    "      hijo1[ptoCruce1:] =pob[(l*2+1)][1][ptoCruce2:]\n",
    "      hijo2[:ptoCruce2] = pob[(l*2+1)][1][:ptoCruce2]\n",
    "      hijo2[ptoCruce2:] = pob[l*2][1][ptoCruce1:]\n",
    "\n",
    "      p.append(hijo1)\n",
    "      p.append(hijo2)\n",
    "    return p"
   ]
  },
  {
   "cell_type": "markdown",
   "metadata": {},
   "source": [
    "### c) Mecanismo de mutación implementado"
   ]
  },
  {
   "cell_type": "markdown",
   "metadata": {},
   "source": [
    "Para realizar la mutación hemos usado mutación por bitflip. Le pasamos a la pasamos a función la población y recorre individuo a individuo, regla a regla generamos un número aleatorio entre 0 y 1 y si sale menor de 0.001 realiza la mutación. En el caso de ser para representación entera se genera un número entero para ese \"bit\" entre el 0 y el 9 pudiendo salir el mismo número por el que se muta.\n",
    "En el caso de representación binaria simplemente se cambia el valor, es decir si es 0 se cambia a 1 y viceversa."
   ]
  },
  {
   "cell_type": "markdown",
   "metadata": {},
   "source": [
    "#### Método que realiza el cruce de todos los individuos de la población"
   ]
  },
  {
   "cell_type": "code",
   "execution_count": null,
   "metadata": {},
   "outputs": [],
   "source": [
    "  def mutacionPob(self, pob, b,k):\n",
    "    for p in range(len(pob)):  \n",
    "      for l in range(int(len(pob[p]))):\n",
    "        for i in range(len(pob[p][l])):#cambiar\n",
    "          if(not b):\n",
    "            if random.random() < 0.001:\n",
    "              pob[p][l][i] = random.randint(0,k)\n",
    "          else:\n",
    "            for j in len(pob[p][l][i]):\n",
    "              if random.random() < 0.001:\n",
    "                pob[p][l][i][j] = 0 if pob[p][l][i][j]==1 else 1\n",
    "      return pob"
   ]
  },
  {
   "cell_type": "markdown",
   "metadata": {},
   "source": [
    "# Apartado  2"
   ]
  },
  {
   "cell_type": "markdown",
   "metadata": {},
   "source": [
    "A continuación se va a ejecutar el algoritmo para los casos indicados en los apartados. Se usarán tanto la representación entera como la binaria.\n",
    "\n",
    "Cabe destacar que la partición inicial de datos que se ha usado es usando la estrategia de validación cruzada que a nuestro parecer es la que obtiene resultados más coherentes con una única partición.\n",
    "Hemos usado en vez de wdbc.data, wdbc-10.data que es el mismo fichero pero con menos columnas tal y como nos ha indicado el profesor que hagamos para simplificar el tiempo de simulación."
   ]
  },
  {
   "cell_type": "markdown",
   "metadata": {},
   "source": [
    "## a) Tamaño de la población: 100; Generaciones: 100"
   ]
  },
  {
   "cell_type": "markdown",
   "metadata": {},
   "source": [
    "### Representación entera"
   ]
  },
  {
   "cell_type": "code",
   "execution_count": 2,
   "metadata": {},
   "outputs": [
    {
     "name": "stdout",
     "output_type": "stream",
     "text": [
      "Probabilidad de error  0.6274165202108963\n"
     ]
    }
   ],
   "source": [
    "from Datos import Datos\n",
    "import EstrategiaParticionado\n",
    "import ClasificadorGenetico\n",
    "import numpy as np\n",
    "import ClasificadorAG \n",
    "\n",
    "data = 'ConjuntosDatos/wdbc-10.data'\n",
    "dataset=Datos(data)\n",
    "clasificador=ClasificadorGenetico.ClasificadorGenetico()\n",
    "cla = ClasificadorAG.ClasificadorAG(100, 100)\n",
    "a =cla.procesamiento(dataset, clasificador, False)\n",
    "print(\"Probabilidad de error \",a)"
   ]
  },
  {
   "cell_type": "markdown",
   "metadata": {},
   "source": [
    "### Representación binaria"
   ]
  },
  {
   "cell_type": "code",
   "execution_count": 3,
   "metadata": {},
   "outputs": [
    {
     "name": "stdout",
     "output_type": "stream",
     "text": [
      "Probabilidad de error  0.37258347978910367\n"
     ]
    }
   ],
   "source": [
    "from Datos import Datos\n",
    "import EstrategiaParticionado\n",
    "import ClasificadorGenetico\n",
    "import numpy as np\n",
    "import ClasificadorAG \n",
    "\n",
    "data = 'ConjuntosDatos/wdbc-10.data'\n",
    "dataset=Datos(data)\n",
    "clasificador=ClasificadorGenetico.ClasificadorGenetico()\n",
    "cla = ClasificadorAG.ClasificadorAG(100, 100)\n",
    "a =cla.procesamiento(dataset, clasificador, True)\n",
    "print(\"Probabilidad de error \",a)"
   ]
  },
  {
   "cell_type": "markdown",
   "metadata": {},
   "source": [
    "## b) Tamaño de la población: 100; Generaciones: 200"
   ]
  },
  {
   "cell_type": "markdown",
   "metadata": {},
   "source": [
    "### Representación entera"
   ]
  },
  {
   "cell_type": "code",
   "execution_count": 4,
   "metadata": {},
   "outputs": [
    {
     "name": "stdout",
     "output_type": "stream",
     "text": [
      "Probabilidad de error: 0.6274165202108963\n"
     ]
    }
   ],
   "source": [
    "from Datos import Datos\n",
    "import EstrategiaParticionado\n",
    "import ClasificadorGenetico\n",
    "import numpy as np\n",
    "import ClasificadorAG \n",
    "\n",
    "data = 'ConjuntosDatos/wdbc-10.data'\n",
    "dataset=Datos(data)\n",
    "clasificador=ClasificadorGenetico.ClasificadorGenetico()\n",
    "cla = ClasificadorAG.ClasificadorAG(200, 100)\n",
    "a =cla.procesamiento(dataset, clasificador, False)\n",
    "print(\"Probabilidad de error:\",a)"
   ]
  },
  {
   "cell_type": "markdown",
   "metadata": {},
   "source": [
    "### Representación binaria"
   ]
  },
  {
   "cell_type": "code",
   "execution_count": 5,
   "metadata": {},
   "outputs": [
    {
     "name": "stdout",
     "output_type": "stream",
     "text": [
      "Probabilidad de error  0.37258347978910367\n"
     ]
    }
   ],
   "source": [
    "from Datos import Datos\n",
    "import EstrategiaParticionado\n",
    "import ClasificadorGenetico\n",
    "import numpy as np\n",
    "import ClasificadorAG \n",
    "\n",
    "data = 'ConjuntosDatos/wdbc-10.data'\n",
    "dataset=Datos(data)\n",
    "clasificador=ClasificadorGenetico.ClasificadorGenetico()\n",
    "cla = ClasificadorAG.ClasificadorAG(200, 100)\n",
    "a =cla.procesamiento(dataset, clasificador, True)\n",
    "print(\"Probabilidad de error \",a)"
   ]
  },
  {
   "cell_type": "markdown",
   "metadata": {},
   "source": [
    "## c) Tamaño de la población: 200; Generaciones: 100"
   ]
  },
  {
   "cell_type": "markdown",
   "metadata": {},
   "source": [
    "### Representación entera"
   ]
  },
  {
   "cell_type": "code",
   "execution_count": 6,
   "metadata": {},
   "outputs": [
    {
     "name": "stdout",
     "output_type": "stream",
     "text": [
      "Probabilidad de error: 0.6274165202108963\n"
     ]
    }
   ],
   "source": [
    "from Datos import Datos\n",
    "import EstrategiaParticionado\n",
    "import ClasificadorGenetico\n",
    "import numpy as np\n",
    "import ClasificadorAG \n",
    "\n",
    "data = 'ConjuntosDatos/wdbc-10.data'\n",
    "dataset=Datos(data)\n",
    "clasificador=ClasificadorGenetico.ClasificadorGenetico()\n",
    "cla = ClasificadorAG.ClasificadorAG(100, 200)\n",
    "a =cla.procesamiento(dataset, clasificador, False)\n",
    "print(\"Probabilidad de error:\",a)"
   ]
  },
  {
   "cell_type": "markdown",
   "metadata": {},
   "source": [
    "### Representación binaria"
   ]
  },
  {
   "cell_type": "code",
   "execution_count": 7,
   "metadata": {},
   "outputs": [
    {
     "name": "stdout",
     "output_type": "stream",
     "text": [
      "Probabilidad de error: 0.37258347978910367\n"
     ]
    }
   ],
   "source": [
    "from Datos import Datos\n",
    "import EstrategiaParticionado\n",
    "import ClasificadorGenetico\n",
    "import numpy as np\n",
    "import ClasificadorAG \n",
    "\n",
    "data = 'ConjuntosDatos/wdbc-10.data'\n",
    "dataset=Datos(data)\n",
    "clasificador=ClasificadorGenetico.ClasificadorGenetico()\n",
    "cla = ClasificadorAG.ClasificadorAG(100, 200)\n",
    "a =cla.procesamiento(dataset, clasificador, True)\n",
    "print(\"Probabilidad de error:\",a)"
   ]
  },
  {
   "cell_type": "markdown",
   "metadata": {},
   "source": [
    "## d) Tamaño de la población: 200; Generaciones: 200"
   ]
  },
  {
   "cell_type": "markdown",
   "metadata": {},
   "source": [
    "### Representación entera"
   ]
  },
  {
   "cell_type": "code",
   "execution_count": 8,
   "metadata": {},
   "outputs": [
    {
     "name": "stdout",
     "output_type": "stream",
     "text": [
      "Probabilidad de error: 0.6274165202108963\n"
     ]
    }
   ],
   "source": [
    "from Datos import Datos\n",
    "import EstrategiaParticionado\n",
    "import ClasificadorGenetico\n",
    "import numpy as np\n",
    "import ClasificadorAG \n",
    "\n",
    "data = 'ConjuntosDatos/wdbc-10.data'\n",
    "dataset=Datos(data)\n",
    "clasificador=ClasificadorGenetico.ClasificadorGenetico()\n",
    "cla = ClasificadorAG.ClasificadorAG(200, 200)\n",
    "a =cla.procesamiento(dataset, clasificador, False)\n",
    "print(\"Probabilidad de error:\",a)"
   ]
  },
  {
   "cell_type": "markdown",
   "metadata": {},
   "source": [
    "### Representación binaria"
   ]
  },
  {
   "cell_type": "code",
   "execution_count": 9,
   "metadata": {},
   "outputs": [
    {
     "name": "stdout",
     "output_type": "stream",
     "text": [
      "Probabilidad de error: 0.37258347978910367\n"
     ]
    }
   ],
   "source": [
    "from Datos import Datos\n",
    "import EstrategiaParticionado\n",
    "import ClasificadorGenetico\n",
    "import numpy as np\n",
    "import ClasificadorAG \n",
    "\n",
    "data = 'ConjuntosDatos/wdbc-10.data'\n",
    "dataset=Datos(data)\n",
    "clasificador=ClasificadorGenetico.ClasificadorGenetico()\n",
    "cla = ClasificadorAG.ClasificadorAG(200, 200)\n",
    "a =cla.procesamiento(dataset, clasificador, True)\n",
    "print(\"Probabilidad de error:\",a)"
   ]
  },
  {
   "cell_type": "markdown",
   "metadata": {},
   "source": [
    "# Apartado 3"
   ]
  },
  {
   "cell_type": "markdown",
   "metadata": {},
   "source": [
    "En este apartado se va a realizar el análisis de resultados del apartado anterior, teniendo en cuenta el número de reglas, el tamaño de la población, número de generaciones, tasas de cruce y mutación. Y la importacia de ambas representaciones."
   ]
  },
  {
   "cell_type": "markdown",
   "metadata": {},
   "source": [
    "Los resultados de la representación entera como media de error nos da 0.627, este valor es alto, ya que debería estar rondando entre el 0.3 y 0.4 de error. Aunque es un resultado malo para un algoritmo genético, hemos reflexionado que esto puede ser debido a que no mantenemos elitismo y por lo tanto en cualquier mutación o cruce de tener un individuo muy bueno podemos descartarlo. También, es posible que el algoritmo se pueda afinar mejor, debido a nuestra poca experiencia implementando algoritmos genéticos. También hay que resaltar que la representación entera es menos flexible que la representación binaria, ya que un atributo solo puede estar en un intervalo y esto hace que en general el resultado comparado con la representación binaria sea peor.\n",
    "\n",
    "En el caso de los resultados de la representación binaria, estos son bastante buenos, nos da 0.37 de probabilidad lo cual es bueno y está entre el 0.3 y 0.4 que era lo que se esperaba. Aunque, la representación binaria es más costosa porque cada atributo de cada intervalo tiene cadenas de números binarios que hace que la complejidad sea mayor, obtiene mejores resultados frente a la representación entera ya que es más flexible porque un número puede pertenecer a varios intervalos.\n",
    "\n",
    "El tamaño y el número de reglas son importantes, ya que cuanto mayor son las reglas y cuantas más hay mas complejidad tiene el algoritmo y más información tiene el individiuo. El la práctica hemos implementado que cada individuo tenga de 1 a 5 reglas para que sea una distribución más heterogénea y haya más diferencia entre los individuos.\n",
    "\n",
    "El tamaño de la población y el número de generaciones también afectan a la complejidad del algoritmo, ya que cuanto mayor sean más costoso es, pero en cambio, mayor efectividad tiene hasta el punto en el que converja, quizás en nuestros ejemplos no se nota, esto puede ser debido a muchos factores, pero lo importante es que el aumento de generaciones y el aumento de tamaño de la población hace que haya más probabilidades de que se formen individuos que cumplan las reglas cada vez mejor, y por lo tanto, tenga mejor resultado. En nuestro caso, además se puede comprobar que puede no seguir lo que acabamos de explicar porque no tenemos elitismo, es decir, aunque nos quedamos siempre con los mejores de cada generación, no los protegemos de cruces y mutaciones que pueden no ser beneficiosos para la población y por lo tanto, si por ejemplo se muta un bit ( o varios) de un individuo con un fitness muy bueno, esto puede cambiar radicalmente. ESte comportamiento se podrá apreciar en la gráfica del apartado 4.\n",
    "\n",
    "Las tasas de cruce y mutación, las hemos tenido en cuenta, en nuestro caso siempre cruzamos ya que así la población evoluciona muy rápido, pero por contra, al no contar con elitismo como contábamos antes, esto puede ser muy malo para individuos con muy buen fitness. En cambio, la mutación tenemos una tasa muy baja por cada bit de cada cromosoma, sindo esta tasa de mutación de 0.001%, por lo que generá nuevos individuos pero, no con mucha frecuencia. Por contra, como comentábamos anteriormente, esta mutación se puede dar en un individuo con muy buen fitness y empeorarlo drásticamente."
   ]
  },
  {
   "cell_type": "markdown",
   "metadata": {},
   "source": [
    "# Apartado 4"
   ]
  },
  {
   "cell_type": "code",
   "execution_count": 12,
   "metadata": {},
   "outputs": [
    {
     "name": "stdout",
     "output_type": "stream",
     "text": [
      "EL mejor de la epoca  0 tiene fitness 0.6274165202108963\n",
      "EL mejor de la epoca  1 tiene fitness 0.6274165202108963\n",
      "EL mejor de la epoca  2 tiene fitness 0.6274165202108963\n",
      "EL mejor de la epoca  3 tiene fitness 0.6274165202108963\n",
      "EL mejor de la epoca  4 tiene fitness 0.6274165202108963\n",
      "EL mejor de la epoca  5 tiene fitness 0.6274165202108963\n",
      "EL mejor de la epoca  6 tiene fitness 0.6274165202108963\n",
      "EL mejor de la epoca  7 tiene fitness 0.6274165202108963\n",
      "EL mejor de la epoca  8 tiene fitness 0.6274165202108963\n",
      "EL mejor de la epoca  9 tiene fitness 0.6274165202108963\n",
      "EL mejor de la epoca  10 tiene fitness 0.6274165202108963\n",
      "EL mejor de la epoca  11 tiene fitness 0.6274165202108963\n",
      "EL mejor de la epoca  12 tiene fitness 0.6274165202108963\n",
      "EL mejor de la epoca  13 tiene fitness 0.6274165202108963\n",
      "EL mejor de la epoca  14 tiene fitness 0.6274165202108963\n",
      "EL mejor de la epoca  15 tiene fitness 0.6274165202108963\n",
      "EL mejor de la epoca  16 tiene fitness 0.6274165202108963\n",
      "EL mejor de la epoca  17 tiene fitness 0.6274165202108963\n",
      "EL mejor de la epoca  18 tiene fitness 0.6274165202108963\n",
      "EL mejor de la epoca  19 tiene fitness 0.6274165202108963\n",
      "EL mejor de la epoca  20 tiene fitness 0.6274165202108963\n",
      "EL mejor de la epoca  21 tiene fitness 0.6274165202108963\n",
      "EL mejor de la epoca  22 tiene fitness 0.6274165202108963\n",
      "EL mejor de la epoca  23 tiene fitness 0.6274165202108963\n",
      "EL mejor de la epoca  24 tiene fitness 0.6274165202108963\n",
      "EL mejor de la epoca  25 tiene fitness 0.6274165202108963\n",
      "EL mejor de la epoca  26 tiene fitness 0.6274165202108963\n",
      "EL mejor de la epoca  27 tiene fitness 0.6274165202108963\n",
      "EL mejor de la epoca  28 tiene fitness 0.6274165202108963\n",
      "EL mejor de la epoca  29 tiene fitness 0.6274165202108963\n",
      "EL mejor de la epoca  30 tiene fitness 0.6274165202108963\n",
      "EL mejor de la epoca  31 tiene fitness 0.6274165202108963\n",
      "EL mejor de la epoca  32 tiene fitness 0.6274165202108963\n",
      "EL mejor de la epoca  33 tiene fitness 0.6274165202108963\n",
      "EL mejor de la epoca  34 tiene fitness 0.6274165202108963\n",
      "EL mejor de la epoca  35 tiene fitness 0.6274165202108963\n",
      "EL mejor de la epoca  36 tiene fitness 0.6274165202108963\n",
      "EL mejor de la epoca  37 tiene fitness 0.6274165202108963\n",
      "EL mejor de la epoca  38 tiene fitness 0.6274165202108963\n",
      "EL mejor de la epoca  39 tiene fitness 0.6274165202108963\n",
      "EL mejor de la epoca  40 tiene fitness 0.6274165202108963\n",
      "EL mejor de la epoca  41 tiene fitness 0.6274165202108963\n",
      "EL mejor de la epoca  42 tiene fitness 0.6274165202108963\n",
      "EL mejor de la epoca  43 tiene fitness 0.6274165202108963\n",
      "EL mejor de la epoca  44 tiene fitness 0.6274165202108963\n",
      "EL mejor de la epoca  45 tiene fitness 0.6274165202108963\n",
      "EL mejor de la epoca  46 tiene fitness 0.6274165202108963\n",
      "EL mejor de la epoca  47 tiene fitness 0.6274165202108963\n",
      "EL mejor de la epoca  48 tiene fitness 0.6274165202108963\n",
      "EL mejor de la epoca  49 tiene fitness 0.6274165202108963\n",
      "EL mejor de la epoca  50 tiene fitness 0.6274165202108963\n",
      "EL mejor de la epoca  51 tiene fitness 0.6274165202108963\n",
      "EL mejor de la epoca  52 tiene fitness 0.6274165202108963\n",
      "EL mejor de la epoca  53 tiene fitness 0.6274165202108963\n",
      "EL mejor de la epoca  54 tiene fitness 0.6274165202108963\n",
      "EL mejor de la epoca  55 tiene fitness 0.6274165202108963\n",
      "EL mejor de la epoca  56 tiene fitness 0.6274165202108963\n",
      "EL mejor de la epoca  57 tiene fitness 0.6274165202108963\n",
      "EL mejor de la epoca  58 tiene fitness 0.6274165202108963\n",
      "EL mejor de la epoca  59 tiene fitness 0.6274165202108963\n",
      "EL mejor de la epoca  60 tiene fitness 0.6274165202108963\n",
      "EL mejor de la epoca  61 tiene fitness 0.6274165202108963\n",
      "EL mejor de la epoca  62 tiene fitness 0.6274165202108963\n",
      "EL mejor de la epoca  63 tiene fitness 0.6274165202108963\n",
      "EL mejor de la epoca  64 tiene fitness 0.6274165202108963\n",
      "EL mejor de la epoca  65 tiene fitness 0.6274165202108963\n",
      "EL mejor de la epoca  66 tiene fitness 0.6274165202108963\n",
      "EL mejor de la epoca  67 tiene fitness 0.6274165202108963\n",
      "EL mejor de la epoca  68 tiene fitness 0.6274165202108963\n",
      "EL mejor de la epoca  69 tiene fitness 0.6274165202108963\n",
      "EL mejor de la epoca  70 tiene fitness 0.6274165202108963\n",
      "EL mejor de la epoca  71 tiene fitness 0.6274165202108963\n",
      "EL mejor de la epoca  72 tiene fitness 0.6274165202108963\n",
      "EL mejor de la epoca  73 tiene fitness 0.6274165202108963\n",
      "EL mejor de la epoca  74 tiene fitness 0.6274165202108963\n",
      "EL mejor de la epoca  75 tiene fitness 0.6274165202108963\n",
      "EL mejor de la epoca  76 tiene fitness 0.6274165202108963\n",
      "EL mejor de la epoca  77 tiene fitness 0.6274165202108963\n",
      "EL mejor de la epoca  78 tiene fitness 0.6274165202108963\n",
      "EL mejor de la epoca  79 tiene fitness 0.6274165202108963\n",
      "EL mejor de la epoca  80 tiene fitness 0.6274165202108963\n",
      "EL mejor de la epoca  81 tiene fitness 0.6274165202108963\n",
      "EL mejor de la epoca  82 tiene fitness 0.6274165202108963\n",
      "EL mejor de la epoca  83 tiene fitness 0.6274165202108963\n",
      "EL mejor de la epoca  84 tiene fitness 0.6274165202108963\n",
      "EL mejor de la epoca  85 tiene fitness 0.6274165202108963\n",
      "EL mejor de la epoca  86 tiene fitness 0.6274165202108963\n",
      "EL mejor de la epoca  87 tiene fitness 0.6274165202108963\n",
      "EL mejor de la epoca  88 tiene fitness 0.6274165202108963\n",
      "EL mejor de la epoca  89 tiene fitness 0.6274165202108963\n",
      "EL mejor de la epoca  90 tiene fitness 0.6274165202108963\n",
      "EL mejor de la epoca  91 tiene fitness 0.6274165202108963\n",
      "EL mejor de la epoca  92 tiene fitness 0.6274165202108963\n",
      "EL mejor de la epoca  93 tiene fitness 0.6274165202108963\n",
      "EL mejor de la epoca  94 tiene fitness 0.6274165202108963\n",
      "EL mejor de la epoca  95 tiene fitness 0.6274165202108963\n",
      "EL mejor de la epoca  96 tiene fitness 0.6274165202108963\n",
      "EL mejor de la epoca  97 tiene fitness 0.6274165202108963\n",
      "EL mejor de la epoca  98 tiene fitness 0.6274165202108963\n",
      "EL mejor de la epoca  99 tiene fitness 0.6274165202108963\n"
     ]
    },
    {
     "data": {
      "image/png": "[encoded data removed]",
      "text/plain": [
       "<Figure size 432x288 with 1 Axes>"
      ]
     },
     "metadata": {
      "needs_background": "light"
     },
     "output_type": "display_data"
    },
    {
     "name": "stdout",
     "output_type": "stream",
     "text": [
      "0.37258347978910367\n"
     ]
    }
   ],
   "source": [
    "from Datos import Datos\n",
    "import EstrategiaParticionado\n",
    "import ClasificadorGenetico\n",
    "import numpy as np\n",
    "import ClasificadorAG\n",
    "\n",
    "data = 'ConjuntosDatos/wdbc-10.data'\n",
    "dataset=Datos(data)\n",
    "clasificador=ClasificadorGenetico.ClasificadorGenetico()\n",
    "cla = ClasificadorAG.ClasificadorAG(100, 100)\n",
    "a =cla.procesamiento(dataset, clasificador, True)\n",
    "cla.imprimirGraficas()\n",
    "print(a)"
   ]
  },
  {
   "cell_type": "markdown",
   "metadata": {},
   "source": [
    "Hemos obtenido una media de error baja, lo cual es bueno y como se puede apreciar en la gráfica la media del fitness es muy bueno, empieza siendo muy malo y va mejorando, llega a un punto que converge y por muchas generaciones que haya no pasa de este punto. Esto podría haberse mejorado usando elitismo, también, cabe destacar que esta ejecución es un poco particular, a veces el fitnes mejora, empeora y vuelve a mejorar o realiza otro tipo de dibujos, aunque normalmente con tendencia alcista.\n"
   ]
  }
 ],
 "metadata": {
  "kernelspec": {
   "display_name": "Python 3",
   "language": "python",
   "name": "python3"
  },
  "language_info": {
   "codemirror_mode": {
    "name": "ipython",
    "version": 3
   },
   "file_extension": ".py",
   "mimetype": "text/x-python",
   "name": "python",
   "nbconvert_exporter": "python",
   "pygments_lexer": "ipython3",
   "version": "3.6.7"
  }
 },
 "nbformat": 4,
 "nbformat_minor": 2
}
