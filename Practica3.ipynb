{
 "cells": [
  {
   "cell_type": "markdown",
   "metadata": {},
   "source": [
    "#  Notebook de la Práctica 3 de FAA"
   ]
  },
  {
   "cell_type": "markdown",
   "metadata": {},
   "source": [
    "# Apartado 1"
   ]
  },
  {
   "cell_type": "markdown",
   "metadata": {},
   "source": [
    "A continuación, vamos a hacer una descripción de los detalles de la implementación de la práctica."
   ]
  },
  {
   "cell_type": "markdown",
   "metadata": {},
   "source": [
    "### a) Generación de la población inicial con especial indicación del número de reglas por individuo consideradas"
   ]
  },
  {
   "cell_type": "markdown",
   "metadata": {},
   "source": [
    "Para la creación de la población inicial lo primero que realizamos es calcular la k, que nos será útil en el futuro con la fórmula \"k = int(1+3.322*log10(N))\" siendo N el número de individuos.\n",
    "El segundo paso es crear tantos individuos como el número de individuos introducido al crear el clasificador, cada individuo será una lista de reglas, por lo que al crear el individuo creamos de 1 a 5 reglas de forma aleatoria y las introducimos en el individuo.\n",
    "Para la creación de estas reglas creamos de forma aleatoria tantos \"bits\" como atributos tenga, si es en representación binaria, estos números aleatorios serán '0' o '1' y en el caso de enteros serán de '0' a '9', al final de cada regla introducimos la clase que también se introduce de forma aleatoria '1' o '0'.\n",
    "Una vez tenemos todos los individuos con sus reglas creadas, calculamos el fitness de cada individuo y lo introducimos en la población.\n",
    "Por último, tras la creación de la población inicial continuamos con el algoritmo genético, es decir, cruzar, mutar y la selección de los mejores de la generación para seguir tantas generaciones o épocas como se le haya introducido.\n",
    "\n",
    "Cabe resaltar como pide en el apartado que hemos considerado de 1 a 5 reglas por individuo, elgiendose de forma aleatoria el número entre 1 y 5. Esto se ha realizado para que no haya individuos iguales."
   ]
  },
  {
   "cell_type": "markdown",
   "metadata": {},
   "source": [
    "#### Código de procesamiento, método en el que se ejecuta el algoritmo. Se muestra hasta la creación de la población inicial"
   ]
  },
  {
   "cell_type": "code",
   "execution_count": 4,
   "metadata": {},
   "outputs": [],
   "source": [
    "def procesamiento(self, dataset, clasificador, binary):\n",
    "    poblacion=[]\n",
    "    auxP = []\n",
    "    tam = len(dataset.nombreAtributos)\n",
    "\n",
    "    #calculamos el numero de intervalor (caso entero)\n",
    "    n = self.poblacion\t# El numero de individuos es el que le has introducido\n",
    "    k = int(1+3.322*np.log10(n))\n",
    "    \n",
    "    for i in range(n):\n",
    "      individuo=[]\n",
    "      r = random.randint(1, 5)\t# Numero de reglas del individuo que se crea, minimo 1, maximo 5\n",
    "      for j in range(r):\t# Creamos j reglas y las vamos introduciendo una a una en individuo\n",
    "        individuo.append(self.crearRegla(tam-1,k, binary))\n",
    "      auxP.append(individuo)\n",
    "      # En este punto ya tenemos la poblacion inicial creada\n",
    "    poblacion = self.fitnessPob1(auxP,dataset,clasificador, binary, k)\n"
   ]
  },
  {
   "cell_type": "markdown",
   "metadata": {},
   "source": [
    "#### Código del método crearRegla, que crea las reglas de cada individuo"
   ]
  },
  {
   "cell_type": "code",
   "execution_count": null,
   "metadata": {},
   "outputs": [],
   "source": [
    "# Metodo que crea reglas de tamano tam, si la representacion es binaria b valdra true\n",
    "  # y k no sera relevante. Si la representacion es entera b valdra false y se usara k\n",
    "  # para la generacion de la regla \n",
    "  def crearRegla(self,tam, k, b):\n",
    "    # Para representacion entera\n",
    "    # generamos aleatorios entre 1 y K para los n \"bits\" (tam) de la regla\n",
    "    if(not b):\t # si la representacion es entera\n",
    "        auxL=[]\n",
    "        for i in range(tam):\n",
    "            auxL = np.append(auxL, random.randint(0,k))\t\t#Se introduce un intervalo de 1 a k intervalos\n",
    "        if random.random()<0.5: # de forma aleatoria generamos 0 o 1 para la clase\n",
    "            auxL= np.append(auxL,1)\n",
    "        else:\n",
    "            auxL= np.append(auxL,0)   \t\t\n",
    "\n",
    "    #generamos aleatorios 0 y 1 para los n \"bits\" (tam) de la regla\n",
    "    else:\t\t# Si la representacion es binaria\n",
    "        auxL=[]\n",
    "        for i in range(tam):\n",
    "            r=[]\n",
    "            for j in range(k):\n",
    "                if random.random()<0.5:\t\t# de forma aleatoria generamos 0 o 1 y lo introducimos a la regla\n",
    "                    r= np.append(r,1)\n",
    "                else:\n",
    "                    r= np.append(r,0)\n",
    "            auxL.append(r)\n",
    "        if random.random()<0.5:     # Introducimos la clase\n",
    "            auxL.append(1)\n",
    "        else:\n",
    "            auxL.append(0)\n",
    "\n",
    "    return auxL"
   ]
  },
  {
   "cell_type": "markdown",
   "metadata": {},
   "source": [
    "### b) Mecanismo de cruce implementado"
   ]
  },
  {
   "cell_type": "markdown",
   "metadata": {},
   "source": [
    "El cruce lo hemos realizado en un punto sobre dos individuos para la creación de dos hijos.\n",
    "Para la realización de este cruce introducimos en una nueva lista que va a ser la de la nueva población los progenitores, después, generamos dos números aleatorios dentro del rango 0 y número de reglas de los individuos que se están cruzando. Esos dos números aleatorios van a ser los puntos donde se crucen los dos individuos.\n",
    "Una vez hecho el cruce los hijos se introducen en la lista con los individuos de la nueva población. Posteriormente se calcularán los nuevos fitnes de estos individuos.\n",
    "Cabe destacar que siempre se cruza y no hemos utilizado una probabilidad de cruce."
   ]
  },
  {
   "cell_type": "markdown",
   "metadata": {},
   "source": [
    "#### Método que realiza el cruce de dos individuos"
   ]
  },
  {
   "cell_type": "code",
   "execution_count": null,
   "metadata": {},
   "outputs": [],
   "source": [
    "  def cruceUniformePob(self, pob):\n",
    "    p = []\n",
    "    for l in range(int(len(pob)/2)):\n",
    "      p.append(pob[l*2][1])\n",
    "      p.append(pob[l*2+1][1])\n",
    "      ptoCruce1 = random.randint(0, len(pob[l*2][1])-1) #elijes el punto de cruce del primer individuo\n",
    "      ptoCruce2 = random.randint(0, len(pob[(l*2)+1][1])-1) # elije el punto de cruce del segundo individuo\n",
    "\n",
    "      hijo1 = []\n",
    "      hijo2 = []\n",
    "      # cruce en cualquier punto de los dos individuos\n",
    "      hijo1[:ptoCruce1] = pob[l*2][1][:ptoCruce1]\n",
    "      hijo1[ptoCruce1:] =pob[(l*2+1)][1][ptoCruce2:]\n",
    "      hijo2[:ptoCruce2] = pob[(l*2+1)][1][:ptoCruce2]\n",
    "      hijo2[ptoCruce2:] = pob[l*2][1][ptoCruce1:]\n",
    "\n",
    "      p.append(hijo1)\n",
    "      p.append(hijo2)\n",
    "    return p"
   ]
  },
  {
   "cell_type": "markdown",
   "metadata": {},
   "source": [
    "### c) Mecanismo de mutación implementado"
   ]
  },
  {
   "cell_type": "markdown",
   "metadata": {},
   "source": [
    "Para realizar la mutación hemos usado mutación por bitflip. Le pasamos a la pasamos a función la población y recorre individuo a individuo, regla a regla generamos un número aleatorio entre 0 y 1 y si sale menor de 0.001 realiza la mutación. En el caso de ser para representación entera se genera un número entero para ese \"bit\" entre el 0 y el 9 pudiendo salir el mismo número por el que se muta.\n",
    "En el caso de representación binaria simplemente se cambia el valor, es decir si es 0 se cambia a 1 y viceversa."
   ]
  },
  {
   "cell_type": "markdown",
   "metadata": {},
   "source": [
    "#### Método que realiza el cruce de todos los individuos de la población"
   ]
  },
  {
   "cell_type": "code",
   "execution_count": null,
   "metadata": {},
   "outputs": [],
   "source": [
    "  def mutacionPob(self, pob, b,k):\n",
    "    for p in range(len(pob)):  \n",
    "      for l in range(int(len(pob[p]))):\n",
    "        for i in range(len(pob[p][l])):#cambiar\n",
    "          if(not b):\n",
    "            if random.random() < 0.001:\n",
    "              pob[p][l][i] = random.randint(0,k)\n",
    "          else:\n",
    "            for j in len(pob[p][l][i]):\n",
    "              if random.random() < 0.001:\n",
    "                pob[p][l][i][j] = 0 if pob[p][l][i][j]==1 else 1\n",
    "      return pob"
   ]
  },
  {
   "cell_type": "markdown",
   "metadata": {},
   "source": [
    "# Apartado  2"
   ]
  },
  {
   "cell_type": "markdown",
   "metadata": {},
   "source": [
    "A continuación se va a ejecutar el algoritmo para los casos indicados en los apartados. Se usarán tanto la representación entera como la binaria.\n",
    "\n",
    "Cabe destacar que la partición inicial de datos que se ha usado es usando la estrategia de validación cruzada que a nuestro parecer es la que obtiene resultados más coherentes con una única partición."
   ]
  },
  {
   "cell_type": "markdown",
   "metadata": {},
   "source": [
    "## a) Tamaño de la población: 100; Generaciones: 100"
   ]
  },
  {
   "cell_type": "markdown",
   "metadata": {},
   "source": [
    "### Representación entera"
   ]
  },
  {
   "cell_type": "code",
   "execution_count": 1,
   "metadata": {},
   "outputs": [
    {
     "name": "stdout",
     "output_type": "stream",
     "text": [
      "Probabilidad de error  0.6274165202108963\n"
     ]
    }
   ],
   "source": [
    "from Datos import Datos\n",
    "import EstrategiaParticionado\n",
    "import ClasificadorGenetico\n",
    "import numpy as np\n",
    "import ClasificadorAG \n",
    "\n",
    "data = 'ConjuntosDatos/wdbc.data'\n",
    "dataset=Datos(data)\n",
    "clasificador=ClasificadorGenetico.ClasificadorGenetico()\n",
    "cla = ClasificadorAG.ClasificadorAG(100, 100)\n",
    "a =cla.procesamiento(dataset, clasificador, False)\n",
    "print(\"Probabilidad de error \",a)"
   ]
  },
  {
   "cell_type": "markdown",
   "metadata": {},
   "source": [
    "### Representación binaria"
   ]
  },
  {
   "cell_type": "code",
   "execution_count": 3,
   "metadata": {},
   "outputs": [
    {
     "name": "stdout",
     "output_type": "stream",
     "text": [
      "Probabilidad de error  0.37258347978910367\n"
     ]
    }
   ],
   "source": [
    "from Datos import Datos\n",
    "import EstrategiaParticionado\n",
    "import ClasificadorGenetico\n",
    "import numpy as np\n",
    "import ClasificadorAG \n",
    "\n",
    "data = 'ConjuntosDatos/wdbc.data'\n",
    "dataset=Datos(data)\n",
    "clasificador=ClasificadorGenetico.ClasificadorGenetico()\n",
    "cla = ClasificadorAG.ClasificadorAG(100, 100)\n",
    "a =cla.procesamiento(dataset, clasificador, True)\n",
    "print(\"Probabilidad de error \",a)"
   ]
  },
  {
   "cell_type": "markdown",
   "metadata": {},
   "source": [
    "## b) Tamaño de la población: 100; Generaciones: 200"
   ]
  },
  {
   "cell_type": "markdown",
   "metadata": {},
   "source": [
    "### Representación entera"
   ]
  },
  {
   "cell_type": "code",
   "execution_count": null,
   "metadata": {},
   "outputs": [],
   "source": [
    "from Datos import Datos\n",
    "import EstrategiaParticionado\n",
    "import ClasificadorGenetico\n",
    "import numpy as np\n",
    "import ClasificadorAG \n",
    "\n",
    "data = 'ConjuntosDatos/wdbc.data'\n",
    "dataset=Datos(data)\n",
    "clasificador=ClasificadorGenetico.ClasificadorGenetico()\n",
    "cla = ClasificadorAG.ClasificadorAG(200, 100)\n",
    "a =cla.procesamiento(dataset, clasificador, False)\n",
    "print(\"Probabilidad de error:\",a)"
   ]
  },
  {
   "cell_type": "markdown",
   "metadata": {},
   "source": [
    "### Representación binaria"
   ]
  },
  {
   "cell_type": "code",
   "execution_count": 5,
   "metadata": {},
   "outputs": [
    {
     "name": "stdout",
     "output_type": "stream",
     "text": [
      "Probabilidad de error  0.37258347978910367\n"
     ]
    }
   ],
   "source": [
    "from Datos import Datos\n",
    "import EstrategiaParticionado\n",
    "import ClasificadorGenetico\n",
    "import numpy as np\n",
    "import ClasificadorAG \n",
    "\n",
    "data = 'ConjuntosDatos/wdbc.data'\n",
    "dataset=Datos(data)\n",
    "clasificador=ClasificadorGenetico.ClasificadorGenetico()\n",
    "cla = ClasificadorAG.ClasificadorAG(200, 100)\n",
    "a =cla.procesamiento(dataset, clasificador, True)\n",
    "print(\"Probabilidad de error \",a)"
   ]
  },
  {
   "cell_type": "markdown",
   "metadata": {},
   "source": [
    "## c) Tamaño de la población: 200; Generaciones: 100"
   ]
  },
  {
   "cell_type": "markdown",
   "metadata": {},
   "source": [
    "### Representación entera"
   ]
  },
  {
   "cell_type": "code",
   "execution_count": 6,
   "metadata": {},
   "outputs": [
    {
     "name": "stdout",
     "output_type": "stream",
     "text": [
      "Probabilidad de error: 0.6274165202108963\n"
     ]
    }
   ],
   "source": [
    "from Datos import Datos\n",
    "import EstrategiaParticionado\n",
    "import ClasificadorGenetico\n",
    "import numpy as np\n",
    "import ClasificadorAG \n",
    "\n",
    "data = 'ConjuntosDatos/wdbc.data'\n",
    "dataset=Datos(data)\n",
    "clasificador=ClasificadorGenetico.ClasificadorGenetico()\n",
    "cla = ClasificadorAG.ClasificadorAG(100, 200)\n",
    "a =cla.procesamiento(dataset, clasificador, False)\n",
    "print(\"Probabilidad de error:\",a)"
   ]
  },
  {
   "cell_type": "markdown",
   "metadata": {},
   "source": [
    "### Representación binaria"
   ]
  },
  {
   "cell_type": "code",
   "execution_count": 7,
   "metadata": {},
   "outputs": [
    {
     "name": "stdout",
     "output_type": "stream",
     "text": [
      "Probabilidad de error: 0.37258347978910367\n"
     ]
    }
   ],
   "source": [
    "from Datos import Datos\n",
    "import EstrategiaParticionado\n",
    "import ClasificadorGenetico\n",
    "import numpy as np\n",
    "import ClasificadorAG \n",
    "\n",
    "data = 'ConjuntosDatos/wdbc.data'\n",
    "dataset=Datos(data)\n",
    "clasificador=ClasificadorGenetico.ClasificadorGenetico()\n",
    "cla = ClasificadorAG.ClasificadorAG(100, 200)\n",
    "a =cla.procesamiento(dataset, clasificador, True)\n",
    "print(\"Probabilidad de error:\",a)"
   ]
  },
  {
   "cell_type": "markdown",
   "metadata": {},
   "source": [
    "## d) Tamaño de la población: 200; Generaciones: 200"
   ]
  },
  {
   "cell_type": "markdown",
   "metadata": {},
   "source": [
    "### Representación entera"
   ]
  },
  {
   "cell_type": "code",
   "execution_count": 8,
   "metadata": {},
   "outputs": [
    {
     "name": "stdout",
     "output_type": "stream",
     "text": [
      "Probabilidad de error: 0.6274165202108963\n"
     ]
    }
   ],
   "source": [
    "from Datos import Datos\n",
    "import EstrategiaParticionado\n",
    "import ClasificadorGenetico\n",
    "import numpy as np\n",
    "import ClasificadorAG \n",
    "\n",
    "data = 'ConjuntosDatos/wdbc.data'\n",
    "dataset=Datos(data)\n",
    "clasificador=ClasificadorGenetico.ClasificadorGenetico()\n",
    "cla = ClasificadorAG.ClasificadorAG(200, 200)\n",
    "a =cla.procesamiento(dataset, clasificador, False)\n",
    "print(\"Probabilidad de error:\",a)"
   ]
  },
  {
   "cell_type": "markdown",
   "metadata": {},
   "source": [
    "### Representación binaria"
   ]
  },
  {
   "cell_type": "code",
   "execution_count": 9,
   "metadata": {},
   "outputs": [
    {
     "name": "stdout",
     "output_type": "stream",
     "text": [
      "Probabilidad de error: 0.37258347978910367\n"
     ]
    }
   ],
   "source": [
    "from Datos import Datos\n",
    "import EstrategiaParticionado\n",
    "import ClasificadorGenetico\n",
    "import numpy as np\n",
    "import ClasificadorAG \n",
    "\n",
    "data = 'ConjuntosDatos/wdbc.data'\n",
    "dataset=Datos(data)\n",
    "clasificador=ClasificadorGenetico.ClasificadorGenetico()\n",
    "cla = ClasificadorAG.ClasificadorAG(200, 200)\n",
    "a =cla.procesamiento(dataset, clasificador, True)\n",
    "print(\"Probabilidad de error:\",a)"
   ]
  },
  {
   "cell_type": "markdown",
   "metadata": {},
   "source": [
    "# Apartado 3"
   ]
  },
  {
   "cell_type": "markdown",
   "metadata": {},
   "source": [
    "En este apartado se va a realizar el análisis de resultados del apartado anterior, teniendo en cuenta el número de reglas, el tamaño de la población, número de generaciones, tasas de cruce y mutación. Y la importacia de ambas representaciones."
   ]
  },
  {
   "cell_type": "markdown",
   "metadata": {},
   "source": [
    "# Apartado 4"
   ]
  }
 ],
 "metadata": {
  "kernelspec": {
   "display_name": "Python 3",
   "language": "python",
   "name": "python3"
  },
  "language_info": {
   "codemirror_mode": {
    "name": "ipython",
    "version": 3
   },
   "file_extension": ".py",
   "mimetype": "text/x-python",
   "name": "python",
   "nbconvert_exporter": "python",
   "pygments_lexer": "ipython3",
   "version": "3.6.7"
  }
 },
 "nbformat": 4,
 "nbformat_minor": 2
}
