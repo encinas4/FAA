{
 "cells": [
  {
   "cell_type": "markdown",
   "metadata": {},
   "source": [
    "# Práctica 1 - María Godín y Alan Glotzer"
   ]
  },
  {
   "cell_type": "markdown",
   "metadata": {},
   "source": [
    "## Apartado 1 - Resultados"
   ]
  },
  {
   "cell_type": "markdown",
   "metadata": {},
   "source": [
    "### Tic-Tac-Toe.data"
   ]
  },
  {
   "cell_type": "code",
   "execution_count": 36,
   "metadata": {},
   "outputs": [
    {
     "name": "stdout",
     "output_type": "stream",
     "text": [
      "- Validacion simple sin Laplace TicTacToe -\n",
      "Tasa de errores:  [0.33402922755741127] \n",
      "Tasa de aciertos:  [0.6659707724425887]\n",
      "Media de los errores:  0.334029227557 \n",
      "Desviacion tipica de los errores:  0.0 \n",
      "\n",
      "- Validacion simple con Laplace TicTacToe -\n",
      "Tasa de errores:  [0.35073068893528186] \n",
      "Tasa de aciertos:  [0.6492693110647181]\n",
      "Media de los errores:  0.350730688935 \n",
      "Desviacion tipica de los errores:  0.0 \n",
      "\n",
      "- Validacion cruzada (k=4) sin Laplace TicTacToe -\n",
      "Tasa de errores:  [0.3054393305439331, 0.3598326359832636, 0.35564853556485354, 0.3651452282157676] \n",
      "Tasa de aciertos:  [0.6945606694560669, 0.6401673640167365, 0.6443514644351465, 0.6348547717842323]\n",
      "Media de los errores:  0.346516432577 \n",
      "Desviacion tipica de los errores:  0.0239534805223 \n",
      "\n",
      "- Validacion cruzada (k=4) con Laplace TicTacToe -\n",
      "Tasa de errores:  [0.35564853556485354, 0.36401673640167365, 0.34309623430962344, 0.3236514522821577] \n",
      "Tasa de aciertos:  [0.6443514644351465, 0.6359832635983264, 0.6569037656903766, 0.6763485477178424]\n",
      "Media de los errores:  0.34660323964 \n",
      "Desviacion tipica de los errores:  0.0151997605009 \n",
      "\n"
     ]
    }
   ],
   "source": [
    "import EstrategiaParticionado\n",
    "import Clasificador\n",
    "import numpy as np\n",
    "from Datos import Datos\n",
    "\n",
    "dataset=Datos('tic-tac-toe.data')\n",
    "\n",
    "estrategia=EstrategiaParticionado.ValidacionSimple()\n",
    "clasificador=Clasificador.ClasificadorNaiveBayes()\n",
    "\n",
    "errores=clasificador.validacion(estrategia,dataset,clasificador)\n",
    "aciertos = [1-x for x in errores]\n",
    "d_tipica = np.std(np.transpose(np.array(errores)), axis=0)\n",
    "media = np.mean(errores)\n",
    "\n",
    "print(\"- Validacion simple sin Laplace TicTacToe -\\nTasa de errores: \", errores, \"\\nTasa de aciertos: \", aciertos)\n",
    "print(\"Media de los errores: \", media, \"\\nDesviacion tipica de los errores: \", d_tipica, \"\\n\")\n",
    "\n",
    "errores=clasificador.validacion(estrategia,dataset,clasificador, Laplace=1)\n",
    "aciertos = [1-x for x in errores]\n",
    "d_tipica = np.std(np.transpose(np.array(errores)), axis=0)\n",
    "media = np.mean(errores)\n",
    "\n",
    "print(\"- Validacion simple con Laplace TicTacToe -\\nTasa de errores: \", errores, \"\\nTasa de aciertos: \", aciertos)\n",
    "print(\"Media de los errores: \", media, \"\\nDesviacion tipica de los errores: \", d_tipica, \"\\n\")\n",
    "\n",
    "estrategia=EstrategiaParticionado.ValidacionCruzada(4)\n",
    "clasificador=Clasificador.ClasificadorNaiveBayes()\n",
    "\n",
    "errores=clasificador.validacion(estrategia,dataset,clasificador)\n",
    "aciertos = [1-x for x in errores]\n",
    "d_tipica = np.std(np.transpose(np.array(errores)), axis=0)\n",
    "media = np.mean(errores)\n",
    "\n",
    "print(\"- Validacion cruzada (k=4) sin Laplace TicTacToe -\\nTasa de errores: \", errores, \"\\nTasa de aciertos: \", aciertos)\n",
    "print(\"Media de los errores: \", media, \"\\nDesviacion tipica de los errores: \", d_tipica, \"\\n\")\n",
    "\n",
    "errores=clasificador.validacion(estrategia,dataset,clasificador, Laplace=1)\n",
    "aciertos = [1-x for x in errores]\n",
    "d_tipica = np.std(np.transpose(np.array(errores)), axis=0)\n",
    "media = np.mean(errores)\n",
    "\n",
    "print(\"- Validacion cruzada (k=4) con Laplace TicTacToe -\\nTasa de errores: \", errores, \"\\nTasa de aciertos: \", aciertos)\n",
    "print(\"Media de los errores: \", media, \"\\nDesviacion tipica de los errores: \", d_tipica, \"\\n\")\n",
    "\n"
   ]
  },
  {
   "cell_type": "markdown",
   "metadata": {},
   "source": [
    "### German.data"
   ]
  },
  {
   "cell_type": "code",
   "execution_count": 37,
   "metadata": {},
   "outputs": [
    {
     "name": "stdout",
     "output_type": "stream",
     "text": [
      "- Validacion simple sin Laplace German -\n",
      "Tasa de errores:  [0.306] \n",
      "Tasa de aciertos:  [0.694]\n",
      "Media de los errores:  0.306 \n",
      "Desviacion tipica de los errores:  0.0 \n",
      "\n",
      "- Validacion simple con Laplace German -\n",
      "Tasa de errores:  [0.326] \n",
      "Tasa de aciertos:  [0.6739999999999999]\n",
      "Media de los errores:  0.326 \n",
      "Desviacion tipica de los errores:  0.0 \n",
      "\n",
      "- Validacion cruzada (k=4) sin Laplace German -\n",
      "Tasa de errores:  [0.304, 0.272, 0.316, 0.3] \n",
      "Tasa de aciertos:  [0.696, 0.728, 0.6839999999999999, 0.7]\n",
      "Media de los errores:  0.298 \n",
      "Desviacion tipica de los errores:  0.0161245154966 \n",
      "\n",
      "- Validacion cruzada (k=4) con Laplace German -\n",
      "Tasa de errores:  [0.296, 0.292, 0.276, 0.324] \n",
      "Tasa de aciertos:  [0.704, 0.708, 0.724, 0.6759999999999999]\n",
      "Media de los errores:  0.297 \n",
      "Desviacion tipica de los errores:  0.0172916164658 \n",
      "\n"
     ]
    }
   ],
   "source": [
    "dataset=Datos('german.data')\n",
    "\n",
    "estrategia=EstrategiaParticionado.ValidacionSimple()\n",
    "clasificador=Clasificador.ClasificadorNaiveBayes()\n",
    "\n",
    "errores=clasificador.validacion(estrategia,dataset,clasificador)\n",
    "aciertos = [1-x for x in errores]\n",
    "d_tipica = np.std(np.transpose(np.array(errores)), axis=0)\n",
    "media = np.mean(errores)\n",
    "\n",
    "print(\"- Validacion simple sin Laplace German -\\nTasa de errores: \", errores, \"\\nTasa de aciertos: \", aciertos)\n",
    "print(\"Media de los errores: \", media, \"\\nDesviacion tipica de los errores: \", d_tipica, \"\\n\")\n",
    "\n",
    "errores=clasificador.validacion(estrategia,dataset,clasificador, Laplace=1)\n",
    "aciertos = [1-x for x in errores]\n",
    "d_tipica = np.std(np.transpose(np.array(errores)), axis=0)\n",
    "media = np.mean(errores)\n",
    "\n",
    "print(\"- Validacion simple con Laplace German -\\nTasa de errores: \", errores, \"\\nTasa de aciertos: \", aciertos)\n",
    "print(\"Media de los errores: \", media, \"\\nDesviacion tipica de los errores: \", d_tipica, \"\\n\")\n",
    "\n",
    "estrategia=EstrategiaParticionado.ValidacionCruzada(4)\n",
    "clasificador=Clasificador.ClasificadorNaiveBayes()\n",
    "\n",
    "errores=clasificador.validacion(estrategia,dataset,clasificador)\n",
    "aciertos = [1-x for x in errores]\n",
    "d_tipica = np.std(np.transpose(np.array(errores)), axis=0)\n",
    "media = np.mean(errores)\n",
    "\n",
    "print(\"- Validacion cruzada (k=4) sin Laplace German -\\nTasa de errores: \", errores, \"\\nTasa de aciertos: \", aciertos)\n",
    "print(\"Media de los errores: \", media, \"\\nDesviacion tipica de los errores: \", d_tipica, \"\\n\")\n",
    "\n",
    "errores=clasificador.validacion(estrategia,dataset,clasificador, Laplace=1)\n",
    "aciertos = [1-x for x in errores]\n",
    "d_tipica = np.std(np.transpose(np.array(errores)), axis=0)\n",
    "media = np.mean(errores)\n",
    "\n",
    "print(\"- Validacion cruzada (k=4) con Laplace German -\\nTasa de errores: \", errores, \"\\nTasa de aciertos: \", aciertos)\n",
    "print(\"Media de los errores: \", media, \"\\nDesviacion tipica de los errores: \", d_tipica, \"\\n\")"
   ]
  },
  {
   "cell_type": "markdown",
   "metadata": {
    "collapsed": true
   },
   "source": [
    "## Apartado 2 - Análisis"
   ]
  },
  {
   "cell_type": "markdown",
   "metadata": {},
   "source": [
    "A la hora de estudiar los resultados podemos entrar en detalle en algunos aspectos de los mismos. Por un lado, al utilizar validación cruzada se obtienen valores más precisos que frente a validación simple, ya que trabaja con más resultados y obtiene una media de los mismos. Si ejecutamos el programa con el fichero TicTacToe.data, podemos obtener un resultado similar a un 34.86% de error con validación simple y un 34.65% con validación cruzada. Esta pequeña variación es debido a que la desviación presente en la desviación cruzada es mínima.\n",
    "\n",
    "En lo relativo a Laplace, tendría un efecto notorio si hubiera abundantes datos con valor 0 en nuestras tablas pero, como no es el caso, no se aprecia una mejora muy notoria. \n",
    "\n",
    "Por otro lado, en lo relativo al análisis del fichero German, la media de los errores resultantes puede apreciarse que es menor que respecto a TicTacToe.data. Además, en los resultados obtenidos podemos ver un panorama similar en ambos ficheros, ya que con los datos de German.data tampoco se aprecia una desviación notoria de los errores en el caso de la validación cruzada, y tampoco cuenta con abuntantes datos con valor 0 para que Laplace signifique un cambio muy apreciable en los resultados."
   ]
  },
  {
   "cell_type": "markdown",
   "metadata": {},
   "source": [
    "## Apartado 3 - Scikit-Learn"
   ]
  },
  {
   "cell_type": "markdown",
   "metadata": {},
   "source": [
    "### TicTacToe.data"
   ]
  },
  {
   "cell_type": "code",
   "execution_count": 40,
   "metadata": {},
   "outputs": [
    {
     "name": "stdout",
     "output_type": "stream",
     "text": [
      "- Validacion simple sin Laplace TicTacToe -\n",
      "Tasa de errores:  0.270833333333 \n",
      "Tasa de aciertos:  0.729166666667\n",
      "Media de los errores:  0.270833333333 \n",
      "Desviacion tipica de los errores:  0.0\n",
      "\n",
      "- Validacion simple con Laplace TicTacToe -\n",
      "Tasa de errores:  0.295833333333 \n",
      "Tasa de aciertos:  0.704166666667\n",
      "Media de los errores:  0.295833333333 \n",
      "Desviacion tipica de los errores:  0.0\n",
      "\n",
      "- Validacion Cruzada sin Laplace TicTacToe -\n",
      "Tasa de errores:  [0.40932642487046633, 0.29166666666666663, 0.30890052356020947, 0.39790575916230364, 0.2879581151832461] \n",
      "Tasa de aciertos:  [ 0.59067358  0.70833333  0.69109948  0.60209424  0.71204188]\n",
      "Media de los errores:  0.339151497889 \n",
      "Desviacion tipica de los errores:  0.0532302107295\n",
      "\n",
      "- Validacion Cruzada con Laplace TicTacToe -\n",
      "Tasa de errores:  [0.40932642487046633, 0.29166666666666663, 0.30890052356020947, 0.39790575916230364, 0.2879581151832461] \n",
      "Tasa de aciertos:  [ 0.59067358  0.70833333  0.69109948  0.60209424  0.71204188]\n",
      "Media de los errores:  0.339151497889 \n",
      "Desviacion tipica de los errores:  0.0532302107295\n"
     ]
    },
    {
     "name": "stderr",
     "output_type": "stream",
     "text": [
      "[Parallel(n_jobs=1)]: Done   5 out of   5 | elapsed:    0.0s finished\n",
      "[Parallel(n_jobs=1)]: Done   5 out of   5 | elapsed:    0.0s finished\n"
     ]
    }
   ],
   "source": [
    "from Datos import Datos\n",
    "from sklearn import preprocessing \n",
    "from sklearn.model_selection import train_test_split \n",
    "from sklearn import naive_bayes\n",
    "from sklearn.model_selection import cross_val_score\n",
    "from sklearn.model_selection import cross_val_predict\n",
    "from ClasificadorSKLearn import ValidacionSimple\n",
    "from ClasificadorSKLearn import ValidacionCruzada\n",
    "\n",
    "prediccionesSimpleSin, scoreSimpleSin = ValidacionSimple('tic-tac-toe.data', 0)\n",
    "prediccionesSimpleCon, scoreSimpleCon = ValidacionSimple('tic-tac-toe.data', 1)\n",
    "\n",
    "erroresSimpleSin = 1 - scoreSimpleSin\n",
    "erroresSimpleCon = 1 - scoreSimpleCon\n",
    "\n",
    "d_tipicaErorresSimpleSin = 0.0 #No hay en este caso\n",
    "mediaErroresSimpleSin = np.mean(erroresSimpleSin)\n",
    "\n",
    "d_tipicaErorresSimpleCon = 0.0 #No hay en este caso\n",
    "mediaErroresSimpleCon = np.mean(erroresSimpleCon)\n",
    "\n",
    "print(\"- Validacion simple sin Laplace TicTacToe -\")\n",
    "print(\"Tasa de errores: \", erroresSimpleSin, \"\\nTasa de aciertos: \", scoreSimpleSin)\n",
    "print(\"Media de los errores: \", mediaErroresSimpleSin, \"\\nDesviacion tipica de los errores: \", d_tipicaErorresSimpleSin)\n",
    "\n",
    "print(\"\\n- Validacion simple con Laplace TicTacToe -\")\n",
    "print(\"Tasa de errores: \", erroresSimpleCon, \"\\nTasa de aciertos: \", scoreSimpleCon)\n",
    "print(\"Media de los errores: \", mediaErroresSimpleCon, \"\\nDesviacion tipica de los errores: \", d_tipicaErorresSimpleCon)\n",
    "\n",
    "prediccionesCruzadaSin, scoreCruzadaSin = ValidacionCruzada('tic-tac-toe.data', 0, 5)\n",
    "prediccionesCruzadaCon, scoreCruzadaCon = ValidacionCruzada('tic-tac-toe.data', 1, 5)\n",
    "\n",
    "erroresCruzadaSin = [1-x for x in scoreCruzadaSin]\n",
    "erroresCruzadaCon = [1-x for x in scoreCruzadaCon]\n",
    "\n",
    "d_tipicaErroresCruzadaSin = np.std(np.transpose(np.array(erroresCruzadaSin)), axis=0)\n",
    "mediaErroresCruzadaSin = np.mean(erroresCruzadaSin)\n",
    "\n",
    "d_tipicaErroresCruzadaCon = np.std(np.transpose(np.array(scoreCruzadaCon)), axis=0)\n",
    "mediaErroresCruzadaCon = np.mean(erroresCruzadaCon)\n",
    "\n",
    "print(\"\\n- Validacion Cruzada sin Laplace TicTacToe -\")\n",
    "print(\"Tasa de errores: \", erroresCruzadaSin, \"\\nTasa de aciertos: \", scoreCruzadaSin)\n",
    "print(\"Media de los errores: \", mediaErroresCruzadaSin, \"\\nDesviacion tipica de los errores: \", d_tipicaErroresCruzadaCon)\n",
    "\n",
    "print(\"\\n- Validacion Cruzada con Laplace TicTacToe -\")\n",
    "print(\"Tasa de errores: \", erroresCruzadaCon, \"\\nTasa de aciertos: \", scoreCruzadaCon)\n",
    "print(\"Media de los errores: \", mediaErroresCruzadaCon, \"\\nDesviacion tipica de los errores: \", d_tipicaErroresCruzadaCon)"
   ]
  },
  {
   "cell_type": "markdown",
   "metadata": {},
   "source": [
    "### German.data"
   ]
  },
  {
   "cell_type": "code",
   "execution_count": null,
   "metadata": {
    "collapsed": true
   },
   "outputs": [],
   "source": []
  }
 ],
 "metadata": {
  "kernelspec": {
   "display_name": "Python 3",
   "language": "python",
   "name": "python3"
  },
  "language_info": {
   "codemirror_mode": {
    "name": "ipython",
    "version": 3
   },
   "file_extension": ".py",
   "mimetype": "text/x-python",
   "name": "python",
   "nbconvert_exporter": "python",
   "pygments_lexer": "ipython3",
   "version": "3.6.5"
  }
 },
 "nbformat": 4,
 "nbformat_minor": 2
}
