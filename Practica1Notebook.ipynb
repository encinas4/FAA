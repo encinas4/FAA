{
 "cells": [
  {
   "cell_type": "markdown",
   "metadata": {},
   "source": [
    "#  Práctica 2 Fundamentos de Aprendizaje Automático"
   ]
  },
  {
   "cell_type": "markdown",
   "metadata": {},
   "source": [
    "## Apartado 1: Particionado"
   ]
  },
  {
   "cell_type": "markdown",
   "metadata": {},
   "source": [
    "A continuación se va a realizar un análisis de las tres estrategias de particionado usadas en la práctica para los conjuntos \"balloons.data\" y \"tic-tac-toe.data\"."
   ]
  },
  {
   "cell_type": "markdown",
   "metadata": {},
   "source": [
    "### Validación Simple"
   ]
  },
  {
   "cell_type": "code",
   "execution_count": 1,
   "metadata": {},
   "outputs": [
    {
     "name": "stdout",
     "output_type": "stream",
     "text": [
      "[]\n"
     ]
    }
   ],
   "source": [
    "from Datos import Datos\n",
    "from EstrategiaParticionado import ValidacionSimple\n",
    "\n",
    "dataset=Datos('balloons.data')\n",
    "estrategia=ValidacionSimple(0.25,3)\n",
    "print(estrategia.listaPartic)"
   ]
  },
  {
   "cell_type": "markdown",
   "metadata": {},
   "source": [
    "### Validación Cruzada"
   ]
  },
  {
   "cell_type": "code",
   "execution_count": 2,
   "metadata": {},
   "outputs": [
    {
     "name": "stdout",
     "output_type": "stream",
     "text": [
      "[<EstrategiaParticionado.Particion object at 0x7f94601f0a58>, <EstrategiaParticionado.Particion object at 0x7f94601fb630>, <EstrategiaParticionado.Particion object at 0x7f9460144c88>]\n"
     ]
    }
   ],
   "source": [
    "from Datos import Datos\n",
    "from EstrategiaParticionado import ValidacionCruzada\n",
    "\n",
    "dataset=Datos('balloons.data')\n",
    "estrategia=ValidacionCruzada(3)\n",
    "print(estrategia.listaPartic)"
   ]
  },
  {
   "cell_type": "markdown",
   "metadata": {},
   "source": [
    "### Validación por Bootstrap"
   ]
  },
  {
   "cell_type": "code",
   "execution_count": 3,
   "metadata": {},
   "outputs": [
    {
     "name": "stdout",
     "output_type": "stream",
     "text": [
      "[]\n"
     ]
    }
   ],
   "source": [
    "from Datos import Datos\n",
    "from EstrategiaParticionado import ValidacionBootstrap\n",
    "\n",
    "dataset=Datos('balloons.data')\n",
    "estrategia=ValidacionBootstrap(3)\n",
    "print(estrategia.listaPartic)"
   ]
  },
  {
   "cell_type": "markdown",
   "metadata": {},
   "source": [
    "## Apartado 2: Naive-Bayes"
   ]
  },
  {
   "cell_type": "markdown",
   "metadata": {},
   "source": [
    "En este apartado se va a realizar un análisis de los resultados de la ejecución para el conjunto de datos \"tic-tac-toe.data\" y \"german.data\"."
   ]
  },
  {
   "cell_type": "markdown",
   "metadata": {},
   "source": [
    "## Apartado 3: Scikit-Learn"
   ]
  },
  {
   "cell_type": "markdown",
   "metadata": {},
   "source": [
    "En el siguiente apartado se va a realizar el mismo análisis que en el apartado 2 pero usando los métodos del paquete scikit-learn."
   ]
  },
  {
   "cell_type": "markdown",
   "metadata": {},
   "source": [
    "## Apartado 4: Evaluación de hipótesis mediante Análisis ROC"
   ]
  },
  {
   "cell_type": "code",
   "execution_count": null,
   "metadata": {},
   "outputs": [],
   "source": []
  }
 ],
 "metadata": {
  "kernelspec": {
   "display_name": "Python 3",
   "language": "python",
   "name": "python3"
  },
  "language_info": {
   "codemirror_mode": {
    "name": "ipython",
    "version": 3
   },
   "file_extension": ".py",
   "mimetype": "text/x-python",
   "name": "python",
   "nbconvert_exporter": "python",
   "pygments_lexer": "ipython3",
   "version": "3.6.6"
  }
 },
 "nbformat": 4,
 "nbformat_minor": 2
}
